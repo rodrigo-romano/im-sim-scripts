{
 "cells": [
  {
   "cell_type": "code",
   "execution_count": 1,
   "source": [
    "import numpy as np\n",
    "import pickle"
   ],
   "outputs": [],
   "metadata": {}
  },
  {
   "cell_type": "code",
   "execution_count": 2,
   "source": [
    "data = np.load(\"SHAcO_qp_rhoP1e-3_kIp5.pkl\",allow_pickle=True)\n",
    "data['SHAcO_qp'].keys()"
   ],
   "outputs": [
    {
     "output_type": "execute_result",
     "data": {
      "text/plain": [
       "dict_keys(['D', 'W2', 'W3', 'K', 'wfsMask', 'umin', 'umax', 'rm_mean_slopes', '_Tu', 'rho_3', 'end2end_ordering'])"
      ]
     },
     "metadata": {},
     "execution_count": 2
    }
   ],
   "metadata": {}
  },
  {
   "cell_type": "code",
   "execution_count": 3,
   "source": [
    "def browse_dict(d,o):\n",
    "    for key in d:\n",
    "        print(f\"{o}: <{key}>\")\n",
    "        if isinstance(d[key],dict):\n",
    "            browse_dict(d[key],o+1)\n",
    "        elif isinstance(d[key],np.ndarray):\n",
    "            buf = d[key].copy()\n",
    "            print(f\" size: [{buf.shape}], type: {buf.dtype}\")\n",
    "            d[key] = buf.ravel().tolist()\n",
    "        elif isinstance(d[key],list):\n",
    "            n = len(d[key])\n",
    "            print(f\" size: [{n}].type: {type(d[key][0])}\")\n",
    "            for k in range(n):\n",
    "                if isinstance(d[key][k],np.ndarray):\n",
    "                    buf = d[key][k].copy()\n",
    "                    print(f\" #{k}. size: [{buf.shape}], type: {buf.dtype}\")\n",
    "                    d[key][k] = buf.ravel().tolist()\n",
    "        else:\n",
    "            print(f\" type: {type(d[key])}\")"
   ],
   "outputs": [],
   "metadata": {}
  },
  {
   "cell_type": "code",
   "execution_count": 4,
   "source": [
    "\n",
    "if False:\n",
    "    browse_dict(data,0)\n",
    "    with open(\"SHAcO_qp_rhoP1e-3_kIp5.rs.pkl\",\"wb\") as f:\n",
    "        pickle.dump(data,f)        \n",
    "else:\n",
    "    print(data['SHAcO_qp']['D'].shape,':',data['SHAcO_qp']['D'].dtype)\n",
    "    print(data['SHAcO_qp']['_Tu'].dtype)"
   ],
   "outputs": [
    {
     "output_type": "stream",
     "name": "stdout",
     "text": [
      "(7360, 271) : float64\n",
      "float64\n"
     ]
    }
   ],
   "metadata": {}
  },
  {
   "cell_type": "code",
   "execution_count": 5,
   "source": [
    "wfsdata = np.load(\"wfs48x48sample.pkl\",allow_pickle=True)\n",
    "\n",
    "wfsdt_dict = {'wfsdata':wfsdata}\n",
    "\n",
    "if False:\n",
    "    browse_dict(wfsdt_dict,0)\n",
    "    with open(\"wfs48x48sample.rs.pkl\",\"wb\") as f:\n",
    "        pickle.dump(wfsdt_dict,f)\n",
    "\n",
    "print(wfsdata.shape,':',wfsdata.dtype)"
   ],
   "outputs": [
    {
     "output_type": "stream",
     "name": "stdout",
     "text": [
      "(13824, 1) : float32\n"
     ]
    }
   ],
   "metadata": {}
  },
  {
   "cell_type": "code",
   "execution_count": 6,
   "source": [
    "import os\n",
    "current_path = os.getcwd()\n",
    "os.chdir('/Users/rromano/Workspace/SIMCEO')\n",
    "import sh_aco_qp_driver as AcO\n",
    "os.chdir(current_path)"
   ],
   "outputs": [],
   "metadata": {}
  },
  {
   "cell_type": "code",
   "execution_count": 9,
   "source": [
    "import logging\n",
    "# AcO Object\n",
    "AcO_QP = AcO.SHAcO_qp(\n",
    "    data['SHAcO_qp']['D'],\n",
    "    data['SHAcO_qp']['W2'],\n",
    "    data['SHAcO_qp']['W3'],\n",
    "    data['SHAcO_qp']['K'],\n",
    "    data['SHAcO_qp']['wfsMask'],\n",
    "    data['SHAcO_qp']['umin'],\n",
    "    data['SHAcO_qp']['umax'],\n",
    "    _Tu = data['SHAcO_qp']['_Tu'],rho3=data['SHAcO_qp']['rho_3'],\n",
    "    rm_mean_slopes=False,end2end_ordering=True, verbose=logging.INFO)\n"
   ],
   "outputs": [
    {
     "output_type": "stream",
     "name": "stderr",
     "text": [
      "INFO:SHAcO_qp: - - - Initializing AcO QP-based algorithm! - - - \n",
      "INFO:SHAcO_qp:AcO: k_I=0.5(integral gain) and rho3(0)=0.1\n"
     ]
    },
    {
     "output_type": "stream",
     "name": "stdout",
     "text": [
      "-----------------------------------------------------------------\n",
      "           OSQP v0.6.2  -  Operator Splitting QP Solver\n",
      "              (c) Bartolomeo Stellato,  Goran Banjac\n",
      "        University of Oxford  -  Stanford University 2021\n",
      "-----------------------------------------------------------------\n",
      "problem:  variables n = 271, constraints m = 1228\n",
      "          nnz(P) + nnz(A) = 67826\n",
      "settings: linear system solver = qdldl,\n",
      "          eps_abs = 1.0e-08, eps_rel = 1.0e-06,\n",
      "          eps_prim_inf = 1.0e-04, eps_dual_inf = 1.0e-04,\n",
      "          rho = 1.00e-01 (adaptive),\n",
      "          sigma = 1.00e-06, alpha = 1.60, max_iter = 135500\n",
      "          check_termination: on (interval 25),\n",
      "          scaling: on, scaled_termination: off\n",
      "          warm start: on, polish: off, time_limit: off\n",
      "\n"
     ]
    }
   ],
   "metadata": {}
  },
  {
   "cell_type": "code",
   "execution_count": 10,
   "source": [
    "AcO_QP.init()\n",
    "u = AcO_QP.output().ravel()\n",
    "AcO_QP.update(wfsdata)\n"
   ],
   "outputs": [
    {
     "output_type": "stream",
     "name": "stderr",
     "text": [
      "INFO:SHAcO_qp:1st-> J1:1.31e-09, J3:7.9e-10, ratio:16.6, ||s||:7.43e-08\n",
      "INFO:SHAcO_qp:2nd> J1:1.32e-09, J3:6.98e-10, ratio:11.4, rho3:0.166\n",
      "INFO:SHAcO_qp:c: [-1.33890042e-07  1.23621630e-08 -1.37545633e-07  1.36609185e-06\n",
      " -1.94730745e-06 -6.10401643e-07 -1.67310974e-07]\n"
     ]
    },
    {
     "output_type": "stream",
     "name": "stdout",
     "text": [
      "iter   objective    pri res    dua res    rho        time\n",
      "   1  -2.6383e-08   1.16e-19   1.50e-03   1.00e-01   1.59e-02s\n",
      "  75  -3.6471e-08   9.50e-19   1.79e-11   1.00e-06   4.21e-02s\n",
      "\n",
      "status:               solved\n",
      "number of iterations: 75\n",
      "optimal objective:    -0.0000\n",
      "run time:             4.33e-02s\n",
      "optimal rho estimate: 1.00e-06\n",
      "\n",
      "iter   objective    pri res    dua res    rho        time\n",
      "   1  -3.6446e-08   2.07e-07   1.32e-06   1.00e-06   1.03e-02s\n",
      "  25  -3.6447e-08   9.82e-13   5.95e-12   1.00e-06   1.47e-02s\n",
      "\n",
      "status:               solved\n",
      "number of iterations: 25\n",
      "optimal objective:    -0.0000\n",
      "run time:             1.63e-02s\n",
      "optimal rho estimate: 1.00e-06\n",
      "\n"
     ]
    }
   ],
   "metadata": {}
  },
  {
   "cell_type": "markdown",
   "source": [
    "## Plot debug data"
   ],
   "metadata": {}
  },
  {
   "cell_type": "code",
   "execution_count": 10,
   "source": [
    "import matplotlib.pyplot as plt"
   ],
   "outputs": [],
   "metadata": {}
  },
  {
   "cell_type": "code",
   "execution_count": 14,
   "source": [
    "plt.figure(figsize=(16,8))\n",
    "plt.imshow(data['SHAcO_qp']['W3'])"
   ],
   "outputs": [
    {
     "output_type": "execute_result",
     "data": {
      "text/plain": [
       "<matplotlib.image.AxesImage at 0x1a3ecbd0b8>"
      ]
     },
     "metadata": {},
     "execution_count": 14
    },
    {
     "output_type": "display_data",
     "data": {
      "text/plain": [
       "<Figure size 1152x576 with 1 Axes>"
      ],
      "image/svg+xml": "<?xml version=\"1.0\" encoding=\"utf-8\" standalone=\"no\"?>\n<!DOCTYPE svg PUBLIC \"-//W3C//DTD SVG 1.1//EN\"\n  \"http://www.w3.org/Graphics/SVG/1.1/DTD/svg11.dtd\">\n<!-- Created with matplotlib (https://matplotlib.org/) -->\n<svg height=\"468.954982pt\" version=\"1.1\" viewBox=\"0 0 475.3675 468.954982\" width=\"475.3675pt\" xmlns=\"http://www.w3.org/2000/svg\" xmlns:xlink=\"http://www.w3.org/1999/xlink\">\n <defs>\n  <style type=\"text/css\">\n*{stroke-linecap:butt;stroke-linejoin:round;}\n  </style>\n </defs>\n <g id=\"figure_1\">\n  <g id=\"patch_1\">\n   <path d=\"M 0 468.954982 \nL 475.3675 468.954982 \nL 475.3675 0 \nL 0 0 \nz\n\" style=\"fill:none;\"/>\n  </g>\n  <g id=\"axes_1\">\n   <g id=\"patch_2\">\n    <path d=\"M 33.2875 445.076857 \nL 468.1675 445.076857 \nL 468.1675 10.196857 \nL 33.2875 10.196857 \nz\n\" style=\"fill:#ffffff;\"/>\n   </g>\n   <g clip-path=\"url(#pa8a2fbc506)\">\n    <image height=\"435\" id=\"image08a693e5a8\" transform=\"scale(1 -1)translate(0 -435)\" width=\"435\" x=\"33.2875\" xlink:href=\"data:image/png;base64,\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\" y=\"-10.076857\"/>\n   </g>\n   <g id=\"matplotlib.axis_1\">\n    <g id=\"xtick_1\">\n     <g id=\"line2d_1\">\n      <defs>\n       <path d=\"M 0 0 \nL 0 3.5 \n\" id=\"m5a3cb2db8e\" style=\"stroke:#000000;stroke-width:0.8;\"/>\n      </defs>\n      <g>\n       <use style=\"stroke:#000000;stroke-width:0.8;\" x=\"34.089862\" xlink:href=\"#m5a3cb2db8e\" y=\"445.076857\"/>\n      </g>\n     </g>\n     <g id=\"text_1\">\n      <!-- 0 -->\n      <defs>\n       <path d=\"M 31.78125 66.40625 \nQ 24.171875 66.40625 20.328125 58.90625 \nQ 16.5 51.421875 16.5 36.375 \nQ 16.5 21.390625 20.328125 13.890625 \nQ 24.171875 6.390625 31.78125 6.390625 \nQ 39.453125 6.390625 43.28125 13.890625 \nQ 47.125 21.390625 47.125 36.375 \nQ 47.125 51.421875 43.28125 58.90625 \nQ 39.453125 66.40625 31.78125 66.40625 \nz\nM 31.78125 74.21875 \nQ 44.046875 74.21875 50.515625 64.515625 \nQ 56.984375 54.828125 56.984375 36.375 \nQ 56.984375 17.96875 50.515625 8.265625 \nQ 44.046875 -1.421875 31.78125 -1.421875 \nQ 19.53125 -1.421875 13.0625 8.265625 \nQ 6.59375 17.96875 6.59375 36.375 \nQ 6.59375 54.828125 13.0625 64.515625 \nQ 19.53125 74.21875 31.78125 74.21875 \nz\n\" id=\"DejaVuSans-48\"/>\n      </defs>\n      <g transform=\"translate(30.908612 459.675295)scale(0.1 -0.1)\">\n       <use xlink:href=\"#DejaVuSans-48\"/>\n      </g>\n     </g>\n    </g>\n    <g id=\"xtick_2\">\n     <g id=\"line2d_2\">\n      <g>\n       <use style=\"stroke:#000000;stroke-width:0.8;\" x=\"114.326024\" xlink:href=\"#m5a3cb2db8e\" y=\"445.076857\"/>\n      </g>\n     </g>\n     <g id=\"text_2\">\n      <!-- 50 -->\n      <defs>\n       <path d=\"M 10.796875 72.90625 \nL 49.515625 72.90625 \nL 49.515625 64.59375 \nL 19.828125 64.59375 \nL 19.828125 46.734375 \nQ 21.96875 47.46875 24.109375 47.828125 \nQ 26.265625 48.1875 28.421875 48.1875 \nQ 40.625 48.1875 47.75 41.5 \nQ 54.890625 34.8125 54.890625 23.390625 \nQ 54.890625 11.625 47.5625 5.09375 \nQ 40.234375 -1.421875 26.90625 -1.421875 \nQ 22.3125 -1.421875 17.546875 -0.640625 \nQ 12.796875 0.140625 7.71875 1.703125 \nL 7.71875 11.625 \nQ 12.109375 9.234375 16.796875 8.0625 \nQ 21.484375 6.890625 26.703125 6.890625 \nQ 35.15625 6.890625 40.078125 11.328125 \nQ 45.015625 15.765625 45.015625 23.390625 \nQ 45.015625 31 40.078125 35.4375 \nQ 35.15625 39.890625 26.703125 39.890625 \nQ 22.75 39.890625 18.8125 39.015625 \nQ 14.890625 38.140625 10.796875 36.28125 \nz\n\" id=\"DejaVuSans-53\"/>\n      </defs>\n      <g transform=\"translate(107.963524 459.675295)scale(0.1 -0.1)\">\n       <use xlink:href=\"#DejaVuSans-53\"/>\n       <use x=\"63.623047\" xlink:href=\"#DejaVuSans-48\"/>\n      </g>\n     </g>\n    </g>\n    <g id=\"xtick_3\">\n     <g id=\"line2d_3\">\n      <g>\n       <use style=\"stroke:#000000;stroke-width:0.8;\" x=\"194.562186\" xlink:href=\"#m5a3cb2db8e\" y=\"445.076857\"/>\n      </g>\n     </g>\n     <g id=\"text_3\">\n      <!-- 100 -->\n      <defs>\n       <path d=\"M 12.40625 8.296875 \nL 28.515625 8.296875 \nL 28.515625 63.921875 \nL 10.984375 60.40625 \nL 10.984375 69.390625 \nL 28.421875 72.90625 \nL 38.28125 72.90625 \nL 38.28125 8.296875 \nL 54.390625 8.296875 \nL 54.390625 0 \nL 12.40625 0 \nz\n\" id=\"DejaVuSans-49\"/>\n      </defs>\n      <g transform=\"translate(185.018436 459.675295)scale(0.1 -0.1)\">\n       <use xlink:href=\"#DejaVuSans-49\"/>\n       <use x=\"63.623047\" xlink:href=\"#DejaVuSans-48\"/>\n       <use x=\"127.246094\" xlink:href=\"#DejaVuSans-48\"/>\n      </g>\n     </g>\n    </g>\n    <g id=\"xtick_4\">\n     <g id=\"line2d_4\">\n      <g>\n       <use style=\"stroke:#000000;stroke-width:0.8;\" x=\"274.798349\" xlink:href=\"#m5a3cb2db8e\" y=\"445.076857\"/>\n      </g>\n     </g>\n     <g id=\"text_4\">\n      <!-- 150 -->\n      <g transform=\"translate(265.254599 459.675295)scale(0.1 -0.1)\">\n       <use xlink:href=\"#DejaVuSans-49\"/>\n       <use x=\"63.623047\" xlink:href=\"#DejaVuSans-53\"/>\n       <use x=\"127.246094\" xlink:href=\"#DejaVuSans-48\"/>\n      </g>\n     </g>\n    </g>\n    <g id=\"xtick_5\">\n     <g id=\"line2d_5\">\n      <g>\n       <use style=\"stroke:#000000;stroke-width:0.8;\" x=\"355.034511\" xlink:href=\"#m5a3cb2db8e\" y=\"445.076857\"/>\n      </g>\n     </g>\n     <g id=\"text_5\">\n      <!-- 200 -->\n      <defs>\n       <path d=\"M 19.1875 8.296875 \nL 53.609375 8.296875 \nL 53.609375 0 \nL 7.328125 0 \nL 7.328125 8.296875 \nQ 12.9375 14.109375 22.625 23.890625 \nQ 32.328125 33.6875 34.8125 36.53125 \nQ 39.546875 41.84375 41.421875 45.53125 \nQ 43.3125 49.21875 43.3125 52.78125 \nQ 43.3125 58.59375 39.234375 62.25 \nQ 35.15625 65.921875 28.609375 65.921875 \nQ 23.96875 65.921875 18.8125 64.3125 \nQ 13.671875 62.703125 7.8125 59.421875 \nL 7.8125 69.390625 \nQ 13.765625 71.78125 18.9375 73 \nQ 24.125 74.21875 28.421875 74.21875 \nQ 39.75 74.21875 46.484375 68.546875 \nQ 53.21875 62.890625 53.21875 53.421875 \nQ 53.21875 48.921875 51.53125 44.890625 \nQ 49.859375 40.875 45.40625 35.40625 \nQ 44.1875 33.984375 37.640625 27.21875 \nQ 31.109375 20.453125 19.1875 8.296875 \nz\n\" id=\"DejaVuSans-50\"/>\n      </defs>\n      <g transform=\"translate(345.490761 459.675295)scale(0.1 -0.1)\">\n       <use xlink:href=\"#DejaVuSans-50\"/>\n       <use x=\"63.623047\" xlink:href=\"#DejaVuSans-48\"/>\n       <use x=\"127.246094\" xlink:href=\"#DejaVuSans-48\"/>\n      </g>\n     </g>\n    </g>\n    <g id=\"xtick_6\">\n     <g id=\"line2d_6\">\n      <g>\n       <use style=\"stroke:#000000;stroke-width:0.8;\" x=\"435.270673\" xlink:href=\"#m5a3cb2db8e\" y=\"445.076857\"/>\n      </g>\n     </g>\n     <g id=\"text_6\">\n      <!-- 250 -->\n      <g transform=\"translate(425.726923 459.675295)scale(0.1 -0.1)\">\n       <use xlink:href=\"#DejaVuSans-50\"/>\n       <use x=\"63.623047\" xlink:href=\"#DejaVuSans-53\"/>\n       <use x=\"127.246094\" xlink:href=\"#DejaVuSans-48\"/>\n      </g>\n     </g>\n    </g>\n   </g>\n   <g id=\"matplotlib.axis_2\">\n    <g id=\"ytick_1\">\n     <g id=\"line2d_7\">\n      <defs>\n       <path d=\"M 0 0 \nL -3.5 0 \n\" id=\"m3af9e64133\" style=\"stroke:#000000;stroke-width:0.8;\"/>\n      </defs>\n      <g>\n       <use style=\"stroke:#000000;stroke-width:0.8;\" x=\"33.2875\" xlink:href=\"#m3af9e64133\" y=\"10.999219\"/>\n      </g>\n     </g>\n     <g id=\"text_7\">\n      <!-- 0 -->\n      <g transform=\"translate(19.925 14.798437)scale(0.1 -0.1)\">\n       <use xlink:href=\"#DejaVuSans-48\"/>\n      </g>\n     </g>\n    </g>\n    <g id=\"ytick_2\">\n     <g id=\"line2d_8\">\n      <g>\n       <use style=\"stroke:#000000;stroke-width:0.8;\" x=\"33.2875\" xlink:href=\"#m3af9e64133\" y=\"91.235381\"/>\n      </g>\n     </g>\n     <g id=\"text_8\">\n      <!-- 50 -->\n      <g transform=\"translate(13.5625 95.0346)scale(0.1 -0.1)\">\n       <use xlink:href=\"#DejaVuSans-53\"/>\n       <use x=\"63.623047\" xlink:href=\"#DejaVuSans-48\"/>\n      </g>\n     </g>\n    </g>\n    <g id=\"ytick_3\">\n     <g id=\"line2d_9\">\n      <g>\n       <use style=\"stroke:#000000;stroke-width:0.8;\" x=\"33.2875\" xlink:href=\"#m3af9e64133\" y=\"171.471543\"/>\n      </g>\n     </g>\n     <g id=\"text_9\">\n      <!-- 100 -->\n      <g transform=\"translate(7.2 175.270762)scale(0.1 -0.1)\">\n       <use xlink:href=\"#DejaVuSans-49\"/>\n       <use x=\"63.623047\" xlink:href=\"#DejaVuSans-48\"/>\n       <use x=\"127.246094\" xlink:href=\"#DejaVuSans-48\"/>\n      </g>\n     </g>\n    </g>\n    <g id=\"ytick_4\">\n     <g id=\"line2d_10\">\n      <g>\n       <use style=\"stroke:#000000;stroke-width:0.8;\" x=\"33.2875\" xlink:href=\"#m3af9e64133\" y=\"251.707706\"/>\n      </g>\n     </g>\n     <g id=\"text_10\">\n      <!-- 150 -->\n      <g transform=\"translate(7.2 255.506925)scale(0.1 -0.1)\">\n       <use xlink:href=\"#DejaVuSans-49\"/>\n       <use x=\"63.623047\" xlink:href=\"#DejaVuSans-53\"/>\n       <use x=\"127.246094\" xlink:href=\"#DejaVuSans-48\"/>\n      </g>\n     </g>\n    </g>\n    <g id=\"ytick_5\">\n     <g id=\"line2d_11\">\n      <g>\n       <use style=\"stroke:#000000;stroke-width:0.8;\" x=\"33.2875\" xlink:href=\"#m3af9e64133\" y=\"331.943868\"/>\n      </g>\n     </g>\n     <g id=\"text_11\">\n      <!-- 200 -->\n      <g transform=\"translate(7.2 335.743087)scale(0.1 -0.1)\">\n       <use xlink:href=\"#DejaVuSans-50\"/>\n       <use x=\"63.623047\" xlink:href=\"#DejaVuSans-48\"/>\n       <use x=\"127.246094\" xlink:href=\"#DejaVuSans-48\"/>\n      </g>\n     </g>\n    </g>\n    <g id=\"ytick_6\">\n     <g id=\"line2d_12\">\n      <g>\n       <use style=\"stroke:#000000;stroke-width:0.8;\" x=\"33.2875\" xlink:href=\"#m3af9e64133\" y=\"412.180031\"/>\n      </g>\n     </g>\n     <g id=\"text_12\">\n      <!-- 250 -->\n      <g transform=\"translate(7.2 415.979249)scale(0.1 -0.1)\">\n       <use xlink:href=\"#DejaVuSans-50\"/>\n       <use x=\"63.623047\" xlink:href=\"#DejaVuSans-53\"/>\n       <use x=\"127.246094\" xlink:href=\"#DejaVuSans-48\"/>\n      </g>\n     </g>\n    </g>\n   </g>\n   <g id=\"patch_3\">\n    <path d=\"M 33.2875 445.076857 \nL 33.2875 10.196857 \n\" style=\"fill:none;stroke:#000000;stroke-linecap:square;stroke-linejoin:miter;stroke-width:0.8;\"/>\n   </g>\n   <g id=\"patch_4\">\n    <path d=\"M 468.1675 445.076857 \nL 468.1675 10.196857 \n\" style=\"fill:none;stroke:#000000;stroke-linecap:square;stroke-linejoin:miter;stroke-width:0.8;\"/>\n   </g>\n   <g id=\"patch_5\">\n    <path d=\"M 33.2875 445.076857 \nL 468.1675 445.076857 \n\" style=\"fill:none;stroke:#000000;stroke-linecap:square;stroke-linejoin:miter;stroke-width:0.8;\"/>\n   </g>\n   <g id=\"patch_6\">\n    <path d=\"M 33.2875 10.196857 \nL 468.1675 10.196857 \n\" style=\"fill:none;stroke:#000000;stroke-linecap:square;stroke-linejoin:miter;stroke-width:0.8;\"/>\n   </g>\n  </g>\n </g>\n <defs>\n  <clipPath id=\"pa8a2fbc506\">\n   <rect height=\"434.88\" width=\"434.88\" x=\"33.2875\" y=\"10.196857\"/>\n  </clipPath>\n </defs>\n</svg>\n",
      "image/png": "[encoded data removed]"
     },
     "metadata": {
      "needs_background": "light"
     }
    }
   ],
   "metadata": {}
  },
  {
   "cell_type": "code",
   "execution_count": null,
   "source": [],
   "outputs": [],
   "metadata": {}
  },
  {
   "cell_type": "code",
   "execution_count": null,
   "source": [],
   "outputs": [],
   "metadata": {}
  },
  {
   "cell_type": "code",
   "execution_count": 18,
   "source": [
    "int(1228*271 + ((271*271 -271)/2 +271))"
   ],
   "outputs": [
    {
     "output_type": "execute_result",
     "data": {
      "text/plain": [
       "369644"
      ]
     },
     "metadata": {},
     "execution_count": 18
    }
   ],
   "metadata": {}
  },
  {
   "cell_type": "code",
   "execution_count": 24,
   "source": [
    "1228*271"
   ],
   "outputs": [
    {
     "output_type": "execute_result",
     "data": {
      "text/plain": [
       "332788"
      ]
     },
     "metadata": {},
     "execution_count": 24
    }
   ],
   "metadata": {}
  },
  {
   "cell_type": "code",
   "execution_count": null,
   "source": [],
   "outputs": [],
   "metadata": {}
  }
 ],
 "metadata": {
  "kernelspec": {
   "name": "python3",
   "display_name": "Python 3.7.3 64-bit ('base': conda)"
  },
  "language_info": {
   "codemirror_mode": {
    "name": "ipython",
    "version": 3
   },
   "file_extension": ".py",
   "mimetype": "text/x-python",
   "name": "python",
   "nbconvert_exporter": "python",
   "pygments_lexer": "ipython3",
   "version": "3.7.3"
  },
  "interpreter": {
   "hash": "ef3a7fef608d46b7606a03afb5aea93f0622ffd9cf5a5d63c632a970bda02f4c"
  }
 },
 "nbformat": 4,
 "nbformat_minor": 4
}