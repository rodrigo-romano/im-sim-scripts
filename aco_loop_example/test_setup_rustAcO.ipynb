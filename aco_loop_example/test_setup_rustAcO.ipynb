{
 "cells": [
  {
   "cell_type": "markdown",
   "metadata": {},
   "source": [
    "# Notebook to test the Active Optics algorithm setup\n",
    "#### Load required libraries"
   ]
  },
  {
   "cell_type": "code",
   "execution_count": 1,
   "metadata": {},
   "outputs": [],
   "source": [
    "import numpy as np\n",
    "import logging\n",
    "import pickle\n",
    "\n",
    "from scipy import sparse\n",
    "import scipy.linalg as la\n",
    "from scipy.linalg import block_diag\n",
    "import scipy.io as spio\n",
    "\n",
    "import os\n",
    "from os import path\n",
    "\n",
    "from pathlib import Path\n",
    "\n",
    "import matplotlib.pyplot as plt\n",
    "\n",
    "# from ruamel import yaml\n",
    "# from ruamel.yaml import YAML\n",
    "# y = YAML()\n",
    "# y.default_flow_style = None\n"
   ]
  },
  {
   "cell_type": "markdown",
   "metadata": {},
   "source": [
    "#### Load Active Optics Calibration Matrix"
   ]
  },
  {
   "cell_type": "code",
   "execution_count": 2,
   "metadata": {},
   "outputs": [
    {
     "name": "stdout",
     "output_type": "stream",
     "text": [
      "-> 6482x271 interaction matrix was loaded successfully.\n"
     ]
    }
   ],
   "source": [
    "dtrust = np.load('dmatRS_6arcmin.pkl', allow_pickle=True)\n",
    "Dvec, ns_, nc_ = dtrust[0], dtrust[1], dtrust[2]\n",
    "Dwfs_rust = np.reshape(np.array(Dvec),(nc_,ns_)).T\n",
    "print(\"-> %dx%d interaction matrix was loaded successfully.\"%(Dwfs_rust.shape[0],Dwfs_rust.shape[1]))"
   ]
  },
  {
   "cell_type": "code",
   "execution_count": 3,
   "metadata": {},
   "outputs": [],
   "source": [
    "# Number of bending modes\n",
    "n_bm = 27\n",
    "# Flag to include mount controllable modes\n",
    "include_mount = False\n"
   ]
  },
  {
   "cell_type": "markdown",
   "metadata": {},
   "source": [
    "Plot comparison of singular values with and without Mount axes"
   ]
  },
  {
   "cell_type": "code",
   "execution_count": 60,
   "metadata": {
    "tags": []
   },
   "outputs": [
    {
     "data": {
      "image/png": "[encoded data removed]",
      "text/plain": [
       "<Figure size 1152x432 with 1 Axes>"
      ]
     },
     "metadata": {
      "needs_background": "light"
     },
     "output_type": "display_data"
    }
   ],
   "source": [
    "U,sigma,V = np.linalg.svd(Dwfs_rust, full_matrices=False)        \n",
    "# print('Weakest singular values :\\n',sigma[-15:])\n",
    "\n",
    "plt.figure(figsize=(16,6))    \n",
    "plt.semilogy(sigma[:],'s-', label='Rust D')\n",
    "plt.grid()\n",
    "plt.legend()\n",
    "plt.xlabel('# Mode')\n",
    "plt.ylabel('Dwfs singular values')\n",
    "plt.show()"
   ]
  },
  {
   "cell_type": "code",
   "execution_count": 64,
   "metadata": {},
   "outputs": [],
   "source": [
    "def plot_weakestV(V, n_m):\n",
    "    # Introduce M1/M2 S7Rz\n",
    "    V_ = np.insert(V, [41,82], 0, axis=1)\n",
    "\n",
    "    fig,ax = plt.subplots()\n",
    "    fig.set_size_inches(16,6)\n",
    "    plt.pcolor(V_[-n_m:,:84])\n",
    "    ax.grid()\n",
    "    ax.set_xticks(np.arange(0,84,6));\n",
    "    for k in range(14):\n",
    "        ax.axvspan(6*k,6*(k+1), color=f'C{2+(k%7)}', alpha=0.05)\n",
    "    labelsDT = [ax.text(x+1.9,-0.9,f'S{(k % 7)+1}',\n",
    "                        verticalalignment='bottom',\n",
    "                        fontweight='bold',fontsize=14)\n",
    "                for k,x in enumerate(range(0,84,6),0)]    \n",
    "    ax.set_xticklabels(labels = [])\n",
    "    \n",
    "    return ax\n",
    "    # ax.set_ylabel('Weakest mode induced inputs - Dsh')"
   ]
  },
  {
   "cell_type": "code",
   "execution_count": 93,
   "metadata": {},
   "outputs": [
    {
     "data": {
      "text/plain": [
       "Text(0.5, 0, 'M1.Txyz.Rxyz - M2.Txyz.Rxyz')"
      ]
     },
     "execution_count": 93,
     "metadata": {},
     "output_type": "execute_result"
    },
    {
     "data": {
      "image/png": "[encoded data removed]",
      "text/plain": [
       "<Figure size 1152x432 with 1 Axes>"
      ]
     },
     "metadata": {
      "needs_background": "light"
     },
     "output_type": "display_data"
    }
   ],
   "source": [
    "ax = plot_weakestV(V=V, n_m=10)\n",
    "ax.set_ylabel('Weakest mode induced inputs - Dsh',fontsize=14)\n",
    "ax.set_xlabel('M1.Txyz.Rxyz - M2.Txyz.Rxyz',fontsize=14)\n",
    "#plt.savefig('GSH_Vpoor.png', format='png', dpi=300, bbox_inches='tight')"
   ]
  },
  {
   "cell_type": "markdown",
   "metadata": {},
   "source": [
    "Functions to compute controllable mode and control balance regularization matrices"
   ]
  },
  {
   "cell_type": "code",
   "execution_count": 86,
   "metadata": {},
   "outputs": [],
   "source": [
    "def get_aco_recW2(Dwfs,wfsMask,DpwBM,rho_p,rho_s,**kwargs):\n",
    "    \n",
    "    try:\n",
    "        plotPistonRegMat = kwargs['plotPistonRegMat']\n",
    "    except:\n",
    "        plotPistonRegMat = False\n",
    "\n",
    "    if not ((Dwfs.shape[1]+2) % 7):\n",
    "        mount_included = False\n",
    "        n_bm = ((Dwfs.shape[1]+2)//7) - 12\n",
    "    elif not ((Dwfs.shape[1]+2 -2) % 7):\n",
    "        n_bm = ((Dwfs.shape[1])//7) - 12\n",
    "        mount_included = True\n",
    "    else:\n",
    "        print('Unable to get the correct number of the calibrated bending modes. Check Dwfs!')\n",
    "\n",
    "    # - - - Global clocking filtering: we assume that the last 12 modes refer to segment clocking\n",
    "    n_r = 12\n",
    "    _U,sigma,VT = np.linalg.svd(Dwfs,full_matrices=False)\n",
    "    q = sigma[-n_r:]\n",
    "    W2_clk = VT[-n_r:,:].T.dot(np.diag(q)).dot(VT[-n_r:,:])\n",
    "\n",
    "     # - - - Segment piston penalization\n",
    "    if mount_included:\n",
    "        DpwBM = np.hstack([DpwBM, kwargs['Dp_az'], kwargs['Dp_el']])\n",
    "    \n",
    "    W2_piston = DpwBM.T.dot(DpwBM)\n",
    "\n",
    "    if (plotPistonRegMat):\n",
    "        import matplotlib.pyplot as plt\n",
    "        plt.figure(figsize=(10,4))\n",
    "        plt.imshow(W2_piston[:12,:12], aspect='auto')\n",
    "        plt.title('Segment Piston Penalization Matrix')\n",
    "        plt.xlabel('Input mode'), plt.ylabel('Reconstructed mode')\n",
    "        plt.colorbar()\n",
    "        ticklabels = ['M1Tx','M1Ty','M1Tz','M1Rx','M1Ry','M1Rz',\n",
    "                      'M2Tx','M2Ty','M2Tz','M2Rx','M2Ry','M2Rz']\n",
    "        labelsDT = [plt.text(x-0.3,12.8,ticklabels[kk],verticalalignment='top',fontweight='bold') \n",
    "                for kk,x in enumerate(range(0,12),0)]            \n",
    "        labelsDT = [plt.text(-1.85,y+.15,ticklabels[kk],horizontalalignment='left',fontweight='bold') \n",
    "                for kk,y in enumerate(range(0,12),0)]\n",
    "        plt.yticks(np.arange(6),labels = []); plt.xticks(np.arange(6),labels = [])\n",
    "        plt.show()\n",
    "\n",
    "    if (False):\n",
    "        import matplotlib.pyplot as plt\n",
    "        fig = plt.figure(figsize=(8,4))\n",
    "        plt.imshow((V_pr @ (Lambda_pr - R_g@Lambda_g@R_g.T) @ V_pr.T), aspect='auto')\n",
    "        plt.show()\n",
    "\n",
    "    W2 = W2_clk + rho_p*W2_piston\n",
    "\n",
    "    # Mean slope regularization\n",
    "    if rho_s > 0.0:\n",
    "        # - - - Mean slope removal matrices (but retains the overall contribution)\n",
    "        O = np.kron(np.eye(6),np.ones((48*48,1)))\n",
    "        V_pr = np.zeros((Dwfs.shape[0],6))\n",
    "        for iv in range(6):\n",
    "            V_pr[:,iv] = np.hstack([*[O[MaskSeg.ravel(),iv] for MaskSeg in wfsMask]])\n",
    "        Lambda_pr = np.diag(1/np.sum(V_pr,axis=0))\n",
    "        \n",
    "        R_g = np.kron(np.eye(2),np.array([[1,1,1]]).T)\n",
    "        Lambda_g = np.diag(1/np.sum(V_pr@R_g,axis=0))    \n",
    "        S = np.matmul(V_pr @ (Lambda_pr - R_g@Lambda_g@R_g.T) @ V_pr.T, Dwfs)\n",
    "        # Update W2 mean slope regularization matrix\n",
    "        W2 += rho_s*S.T.dot(S)\n",
    "\n",
    "    return W2\n"
   ]
  },
  {
   "cell_type": "code",
   "execution_count": 87,
   "metadata": {},
   "outputs": [],
   "source": [
    "def get_aco_recW3(rho_rbm1,rho_rbm2,rho_Fz,**kwargs):\n",
    "    \n",
    "    W_M1TxyzRxyz = [rho_rbm1*i_cm for i_cm in [1]*6]\n",
    "    W_M2TxyzRxyz = [rho_rbm2*i_cm for i_cm in [1]*6]\n",
    "    \n",
    "    W_rbm_oa = block_diag(np.diag(W_M1TxyzRxyz), np.diag(W_M2TxyzRxyz))\n",
    "    W_rbm_cs = block_diag(np.diag(W_M1TxyzRxyz[:-1]), np.diag(W_M2TxyzRxyz[:-1]))\n",
    "    # Rescale RBM weighting matrix\n",
    "    rbm_factor = 1/np.linalg.norm(W_rbm_oa)\n",
    "\n",
    "    # OA segment SA_F weights\n",
    "    W_m1oaF = np.diag([1]*165)\n",
    "    W_m1oaF =  rho_Fz*(1/np.linalg.norm(W_m1oaF))*W_m1oaF\n",
    "    # CS (center segment) SA_F weights\n",
    "    W_m1csF = np.diag([1]*154)\n",
    "    W_m1csF =  rho_Fz*(1/np.linalg.norm(W_m1csF))*W_m1csF\n",
    "\n",
    "    \n",
    "    # Group weighting matrices\n",
    "    W3_M1RBM = rbm_factor*block_diag(np.kron(np.eye(6),np.diag(W_M1TxyzRxyz)),\n",
    "        np.diag(W_M1TxyzRxyz[:-1]))\n",
    "    W3_M2RBM = rbm_factor*block_diag(np.kron(np.eye(6),np.diag(W_M2TxyzRxyz)),\n",
    "        np.diag(W_M2TxyzRxyz[:-1]))\n",
    "    W3_M1BM = block_diag(np.kron(np.eye(6),W_m1oaF),W_m1csF)\n",
    "    # Merge weighting matrices\n",
    "    W3 = block_diag(W3_M1RBM,W3_M2RBM,W3_M1BM)\n",
    "\n",
    "    if 'rho_m' in kwargs.keys():\n",
    "        W3 = block_diag(W3,kwargs['rho_m']*np.eye(2))\n",
    "    \n",
    "    W3 = (1/np.linalg.norm(W3))*W3\n",
    "    \n",
    "    # Print reconstructor regularization weights\n",
    "    if(1):\n",
    "        np.set_printoptions(formatter={'float': '{: 0.6f}'.format})\n",
    "        \n",
    "        aux = np.diag(W3)\n",
    "        if include_mount:\n",
    "            print('Mount weights:\\n',aux[-2:])\n",
    "    \n",
    "        _wM1rbm,_wM2rbm,_wSA_F = np.split(aux,[41,82],axis=0)\n",
    "        print('M1 TxyzRxyz weights:\\n',_wM1rbm[:5],'...(%s entries)'%_wM1rbm.shape)\n",
    "        print('M2 TxyzRxyz weights:\\n',_wM2rbm[:5],'...(%s entries)'%_wM2rbm.shape)\n",
    "        print('Fz weights:\\n',_wSA_F[:5],'...')\n",
    "        np.set_printoptions(formatter=None)\n",
    "\n",
    "    return W3\n"
   ]
  },
  {
   "cell_type": "markdown",
   "metadata": {},
   "source": [
    "#### AcO reconstructor+controller settings"
   ]
  },
  {
   "cell_type": "code",
   "execution_count": 88,
   "metadata": {
    "tags": []
   },
   "outputs": [
    {
     "data": {
      "image/png": "[encoded data removed]",
      "text/plain": [
       "<Figure size 720x288 with 2 Axes>"
      ]
     },
     "metadata": {
      "needs_background": "light"
     },
     "output_type": "display_data"
    },
    {
     "name": "stdout",
     "output_type": "stream",
     "text": [
      "M1 TxyzRxyz weights:\n",
      " [ 0.151511  0.151511  0.151511  0.151511  0.151511] ...(41 entries)\n",
      "M2 TxyzRxyz weights:\n",
      " [ 0.037878  0.037878  0.037878  0.037878  0.037878] ...(41 entries)\n",
      "Fz weights:\n",
      " [ 0.000016  0.000016  0.000016  0.000016  0.000016] ...\n",
      "\n",
      "Dimension of the vector of actuator limits:1228\n"
     ]
    }
   ],
   "source": [
    "# - - - - - - Maximmum actuator command values - - - - -\n",
    "# [ID 36136]: M1 Segment Active Optics Range of Motion\n",
    "max_m1RBM = [3.0e-3,4.75e-3,4e-3] + [6.5e-4,5.75e-4,5.75e-4]\n",
    "# [ID 36168]: M2 Segment Active Optic Range of Motion\n",
    "max_m2RBM = [11.0e-3,11.0e-3,12.0e-3] + [3e-3,3e-3,3e-3]\n",
    "max_Fz = 147\n",
    "max_az_el = [1e-2,1e-2]\n",
    "\n",
    "# - - - - - - - - Get weighting matrices - - - - - - - -\n",
    "# Set True to load Piston penalization matrix\n",
    "if True:\n",
    "    # Folder of files with calibration matrices\n",
    "    calibDataFolder = '/Users/rromano/Workspace/SIMCEO/calibration_dbs'\n",
    "    pistonCalibFile = 'piston_mount_calib_dt_end2end.npz'\n",
    "    dt_p = np.load(Path(calibDataFolder)/pistonCalibFile,\n",
    "                     allow_pickle=True)\n",
    "    Dp = dt_p['calibdt'][()]['Dp']\n",
    "\n",
    "    if (Dp.shape[1] == 82):\n",
    "        # Include zero columns corresponfing to bending modes \n",
    "        DpwBM = np.hstack([Dp, np.zeros((Dp.shape[0],7*n_bm))])\n",
    "    else:\n",
    "        print('There is an unexpected number of columns in Piston calibration matrix Dp!')\n",
    "else:\n",
    "    DpwBM = np.zeros((21, Dwfs.shape[1]))\n",
    "    \n",
    "    \n",
    "# AcO configuration parameters\n",
    "rho_p = 1.0e-12 #1.0e-3 #1.0e-4 #5.0e-4 #5.0e-6\n",
    "rho_s = 0.0*1.0e-8\n",
    "rho_rbm1 = 4\n",
    "rho_rbm2 = 1\n",
    "rho_Fz = 0.1*(12/165)**2\n",
    "rho_m = 50\n",
    "if include_mount:\n",
    "    print('\\nOoops! =[')\n",
    "else:\n",
    "    W2 = get_aco_recW2(Dwfs_rust, None,\n",
    "        DpwBM=DpwBM,rho_p=rho_p,rho_s=rho_s,plotPistonRegMat=True)\n",
    "    W3 = get_aco_recW3(rho_rbm1=rho_rbm1,rho_rbm2=rho_rbm2,rho_Fz=rho_Fz)\n",
    "\n",
    "# Bending modes' data\n",
    "# M1 influence matrix folder\n",
    "Af_folder = '/Users/rromano/Workspace/GMTDataFiles/20200319 Rodrigo k6rot 100000 c'\n",
    "Afz = {}\n",
    "# OA segment weights\n",
    "filename = os.path.join(Af_folder,'m1s1_Af.mat')\n",
    "Afz['outer'] = spio.loadmat(filename)['afprime']\n",
    "_U,s_oa,V_oaT = np.linalg.svd(Afz['outer'],0)\n",
    "bm2Fz_oa = np.dot(V_oaT.T, np.diag(1/s_oa)[:,:n_bm])\n",
    "# CS (center segment) weights\n",
    "filename = os.path.join(Af_folder,'m1s7_Af.mat')\n",
    "Afz['center'] = spio.loadmat(filename)['afprime']\n",
    "_U,s_cs,V_csT = np.linalg.svd(Afz['center'],0)\n",
    "bm2Fz_cs = np.dot(V_csT.T, np.diag(1/s_cs)[:,:n_bm])\n",
    "\n",
    "# Transformation matrix from ctrlb modes to actuator action domain\n",
    "fz_factor = np.mean(max_m1RBM + max_m2RBM)/max_Fz\n",
    "_Tu = block_diag( np.eye(84), np.kron(np.eye(6),fz_factor*bm2Fz_oa), fz_factor*bm2Fz_cs)\n",
    "_TuwoS7Rz = block_diag( np.eye(82), np.kron(np.eye(6),fz_factor*bm2Fz_oa), fz_factor*bm2Fz_cs)\n",
    "# Actuator ranges [M1_RBM;M2_RBM;M1_SA_F]\n",
    "rbm_ranges = max_m1RBM*7 + max_m2RBM*7\n",
    "u_ranges = rbm_ranges + [fz_factor*max_Fz]*bm2Fz_oa.shape[0]*6 + [fz_factor*max_Fz]*bm2Fz_cs.shape[0]\n",
    "print('\\nDimension of the vector of actuator limits:%d'%len(u_ranges))\n",
    "\n",
    "# Control action upper limits vector\n",
    "umax = np.array(u_ranges) # np.array([]) # \n",
    "    \n",
    "if include_mount:\n",
    "    _Tu = block_diag(_Tu,np.eye(2))\n",
    "    _TuwoS7Rz = block_diag(_TuwoS7Rz,np.eye(2))\n",
    "    umax = np.hstack([umax, np.array(max_az_el)]) # np.array([]) #\n",
    "\n",
    "# AcO integral controller gain\n",
    "k_I = 0.5\n",
    "# Active Optics dictionary data\n",
    "W3 = _TuwoS7Rz.T @ W3 @ _TuwoS7Rz"
   ]
  },
  {
   "cell_type": "markdown",
   "metadata": {},
   "source": [
    "Save AcO data"
   ]
  },
  {
   "cell_type": "code",
   "execution_count": 75,
   "metadata": {},
   "outputs": [],
   "source": [
    "data = {'SHAcO_qp':{'D':Dwfs_rust,'W2':W2,'W3':W3,'K':k_I,\n",
    "                    'umin':-umax, 'umax':umax,'rm_mean_slopes':True,\n",
    "                    '_Tu':_Tu, 'rho_3':1.0e-1, 'end2end_ordering':True}} #'J1_J3_ratio':10\n",
    "\n",
    "# filename = 'SHAcO_qp.pickle'\n",
    "filename = 'rustCalib_AcO_rhoP1e-12_kIp5.pickle'\n",
    "\n",
    "# Pickles MPC data into string representation\n",
    "with open(filename,'wb') as f:\n",
    "    pickle.dump(data,f)"
   ]
  },
  {
   "cell_type": "markdown",
   "metadata": {},
   "source": [
    "Check conditioning improvement due to regularization"
   ]
  },
  {
   "cell_type": "code",
   "execution_count": 89,
   "metadata": {
    "tags": []
   },
   "outputs": [
    {
     "name": "stdout",
     "output_type": "stream",
     "text": [
      "Condition number improvement:\n",
      "\n",
      "Due to W2: 2634.1263036802734\n",
      "Due to W2 and W3: 12279.197465912617\n"
     ]
    }
   ],
   "source": [
    "condDTD = np.linalg.cond(Dwfs_rust.T.dot(Dwfs_rust))\n",
    "print('Condition number improvement:\\n')\n",
    "print('Due to W2:',condDTD/np.linalg.cond(Dwfs_rust.T.dot(Dwfs_rust)+W2))\n",
    "print('Due to W2 and W3:',condDTD/np.linalg.cond(Dwfs_rust.T.dot(Dwfs_rust)+W2+5.0e-7*k_I*W3*k_I))"
   ]
  },
  {
   "cell_type": "markdown",
   "metadata": {},
   "source": [
    "Cells to evaluate the AcO reconstructor"
   ]
  },
  {
   "cell_type": "code",
   "execution_count": 100,
   "metadata": {},
   "outputs": [],
   "source": [
    "def plot_AcO_RdotD(RD,m1_cmap='Spectral'):\n",
    "    plt.figure(figsize=(14,5))\n",
    "    # M1 modes\n",
    "    plt.subplot(1,2,1)\n",
    "    m1RD = RD[:42,:42]\n",
    "    pcm1 = plt.imshow(m1RD,cmap=plt.get_cmap(m1_cmap))\n",
    "    plt.colorbar(pcm1,label='Contribution (Gain)')\n",
    "    plt.title('M1 reconstruction')\n",
    "    cn = 4\n",
    "    for k in range(6):\n",
    "        plt.axhspan(6*k,6*(k+1), color=f'C{(k%2)+cn}', alpha=0.1)\n",
    "        plt.axvspan(6*k,6*(k+1), color=f'C{(k%2)+cn}', alpha=0.1)\n",
    "        plt.axvspan(6*(k+1),6*(k+1), color=f'C{cn}', alpha=0.3)\n",
    "        plt.axhspan(6*(k+1),6*(k+1), color=f'C{cn}', alpha=0.3)\n",
    "        \n",
    "    labelsDT = [plt.text(x+1.5,42,f'S{(k % 7)+1}',verticalalignment='top',fontweight='bold') \n",
    "                for k,x in enumerate(range(0,42,6),0)]            \n",
    "    labelsDT = [plt.text(-3.5,y+4,f'S{(k % 7)+1}',horizontalalignment='left',fontweight='bold') \n",
    "                for k,y in enumerate(range(0,42,6),0)]\n",
    "    plt.yticks(np.arange(0,42,6),labels = []); plt.xticks(np.arange(0,42,6),labels = [])  \n",
    "\n",
    "    # M2 modes\n",
    "    plt.subplot(1,2,2)\n",
    "    m2RD = RD#[42:84,42:84]\n",
    "    pcm2=plt.imshow(m2RD,vmax=np.max(m2RD),vmin=-np.max(m2RD),cmap=plt.get_cmap('Spectral'))\n",
    "    plt.colorbar(pcm2,label='Contribution (Gain)')\n",
    "    plt.title('M2 reconstruction')\n",
    "    for k in range(6):\n",
    "        plt.axhspan(6*k,6*(k+1), color=f'C{(k%2)+cn}', alpha=0.1)\n",
    "        plt.axvspan(6*k,6*(k+1), color=f'C{(k%2)+cn}', alpha=0.1)\n",
    "        plt.axvspan(6*(k+1),6*(k+1),color=f'C{cn}', alpha=0.3)\n",
    "        plt.axhspan(6*(k+1),6*(k+1), color=f'C{cn}', alpha=0.3)\n",
    "        \n",
    "    labelsDT = [plt.text(x+1.5,42,f'S{(k % 7)+1}',verticalalignment='top',fontweight='bold') \n",
    "                for k,x in enumerate(range(0,42,6),0)]            \n",
    "    labelsDT = [plt.text(-3.5,y+4,f'S{(k % 7)+1}',horizontalalignment='left',fontweight='bold') \n",
    "                for k,y in enumerate(range(0,42,6),0)]\n",
    "    plt.yticks(np.arange(0,42,6),labels = []); plt.xticks(np.arange(0,42,6),labels = [])\n",
    "    # OA & CS Segments\n",
    "    plt.figure(figsize=(14,3))\n",
    "\n",
    "    titles = ['M1-S1(OA)','M1-S7(CS)','M2-S1(OA)','M2-S7(CS)']\n",
    "    ticklabels = ['Tx','Ty','Tz','Rx','Ry','Rz']\n",
    "    res = [RD[:6,:6],RD[36:42,36:42],RD[42:48,42:48],RD[78:84,78:84]]\n",
    "    vlim = [np.max(m1RD),np.max(m2RD)]\n",
    "    for k in range(4):\n",
    "        plt.subplot(1,4,k+1)\n",
    "        plt.imshow(res[k],vmax=vlim[np.int(k/2)],vmin=-vlim[np.int(k/2)],cmap=plt.get_cmap('Spectral'))\n",
    "        plt.title(titles[k])\n",
    "        for k in range(6):\n",
    "            plt.axvspan((k+.45),(k+.45),color=f'C{cn}', alpha=0.2)\n",
    "            plt.axhspan((k+.45),(k+.45), color=f'C{cn}', alpha=0.2)\n",
    "        labelsDT = [plt.text(x-0.3,5.8,ticklabels[kk],verticalalignment='top',fontweight='bold') \n",
    "                for kk,x in enumerate(range(0,6),0)]            \n",
    "        labelsDT = [plt.text(-1.35,y+.15,ticklabels[kk],horizontalalignment='left',fontweight='bold') \n",
    "                for kk,y in enumerate(range(0,6),0)]\n",
    "        plt.yticks(np.arange(6),labels = []); plt.xticks(np.arange(6),labels = [])"
   ]
  },
  {
   "cell_type": "markdown",
   "metadata": {},
   "source": [
    "### Check product $RD$, s.t. $\\hat{c} = RD c$"
   ]
  },
  {
   "cell_type": "code",
   "execution_count": 101,
   "metadata": {},
   "outputs": [
    {
     "data": {
      "image/png": "[encoded data removed]",
      "text/plain": [
       "<Figure size 1008x360 with 4 Axes>"
      ]
     },
     "metadata": {
      "needs_background": "light"
     },
     "output_type": "display_data"
    },
    {
     "data": {
      "image/png": "[encoded data removed]",
      "text/plain": [
       "<Figure size 1008x216 with 4 Axes>"
      ]
     },
     "metadata": {
      "needs_background": "light"
     },
     "output_type": "display_data"
    }
   ],
   "source": [
    "W2 = get_aco_recW2(Dwfs_rust,None,DpwBM=DpwBM,rho_p=1e-12,rho_s=0.0)\n",
    "# - - - NO Probe mean slope removal matrix Rs \n",
    "left_sym_inv = la.pinv(Dwfs_rust.T.dot(Dwfs_rust) + W2)\n",
    "R = left_sym_inv.dot(Dwfs_rust.T)\n",
    "R = np.insert(R,[36+5,82],0,axis=0)\n",
    "\n",
    "# Linear reconstruction bias\n",
    "Dwfs_withS7Rz = np.insert(Dwfs_rust,[36+5,82],0,axis=1)\n",
    "RD = R.dot(Dwfs_withS7Rz)\n",
    "plot_AcO_RdotD(RD)\n"
   ]
  },
  {
   "cell_type": "markdown",
   "metadata": {},
   "source": [
    "### Reconstruction analysis with mean slope removal"
   ]
  },
  {
   "cell_type": "code",
   "execution_count": 14,
   "metadata": {},
   "outputs": [
    {
     "name": "stdout",
     "output_type": "stream",
     "text": [
      "Condition number improvement:\n",
      "\n",
      "Due to W2: 11.290913874741223\n",
      "Due to W2 and W3: 2289.838745732023\n"
     ]
    }
   ],
   "source": [
    "try:\n",
    "    print('W1:',W1.shape,'exists!')\n",
    "except:\n",
    "    W1 = get_meanslrm_W1(Dwfs,dt['calibdt'][()]['wfsMask'])\n",
    "condDTD = np.linalg.cond(Dwfs.T.dot(W1).dot(Dwfs))\n",
    "print('Condition number improvement:\\n')\n",
    "print('Due to W2:',condDTD/np.linalg.cond(Dwfs.T.dot(W1).dot(Dwfs)+W2))\n",
    "print('Due to W2 and W3:',condDTD/np.linalg.cond(Dwfs.T.dot(W1).dot(Dwfs)+W2+5.0e-7*k_I*W3*k_I))"
   ]
  },
  {
   "cell_type": "code",
   "execution_count": 92,
   "metadata": {},
   "outputs": [
    {
     "ename": "NameError",
     "evalue": "name 'W1' is not defined",
     "output_type": "error",
     "traceback": [
      "\u001b[0;31m---------------------------------------------------------------------------\u001b[0m",
      "\u001b[0;31mNameError\u001b[0m                                 Traceback (most recent call last)",
      "\u001b[0;32m<ipython-input-92-6909df514168>\u001b[0m in \u001b[0;36m<module>\u001b[0;34m\u001b[0m\n\u001b[1;32m      1\u001b[0m \u001b[0mW2\u001b[0m \u001b[0;34m=\u001b[0m \u001b[0mget_aco_recW2\u001b[0m\u001b[0;34m(\u001b[0m\u001b[0mDwfs_rust\u001b[0m\u001b[0;34m,\u001b[0m\u001b[0;32mNone\u001b[0m\u001b[0;34m,\u001b[0m\u001b[0mDpwBM\u001b[0m\u001b[0;34m=\u001b[0m\u001b[0mDpwBM\u001b[0m\u001b[0;34m,\u001b[0m\u001b[0mrho_p\u001b[0m\u001b[0;34m=\u001b[0m\u001b[0;36m1e-12\u001b[0m\u001b[0;34m,\u001b[0m\u001b[0mrho_s\u001b[0m\u001b[0;34m=\u001b[0m\u001b[0;36m0.0\u001b[0m\u001b[0;34m)\u001b[0m\u001b[0;34m\u001b[0m\u001b[0;34m\u001b[0m\u001b[0m\n\u001b[0;32m----> 2\u001b[0;31m \u001b[0mleft_sym_inv\u001b[0m \u001b[0;34m=\u001b[0m \u001b[0mla\u001b[0m\u001b[0;34m.\u001b[0m\u001b[0mpinv\u001b[0m\u001b[0;34m(\u001b[0m\u001b[0mDwfs_rust\u001b[0m\u001b[0;34m.\u001b[0m\u001b[0mT\u001b[0m\u001b[0;34m.\u001b[0m\u001b[0mdot\u001b[0m\u001b[0;34m(\u001b[0m\u001b[0mW1\u001b[0m\u001b[0;34m)\u001b[0m\u001b[0;34m.\u001b[0m\u001b[0mdot\u001b[0m\u001b[0;34m(\u001b[0m\u001b[0mDwfs_rust\u001b[0m\u001b[0;34m)\u001b[0m \u001b[0;34m+\u001b[0m \u001b[0mW2\u001b[0m\u001b[0;34m)\u001b[0m\u001b[0;34m\u001b[0m\u001b[0;34m\u001b[0m\u001b[0m\n\u001b[0m\u001b[1;32m      3\u001b[0m \u001b[0mR\u001b[0m \u001b[0;34m=\u001b[0m \u001b[0mleft_sym_inv\u001b[0m\u001b[0;34m.\u001b[0m\u001b[0mdot\u001b[0m\u001b[0;34m(\u001b[0m\u001b[0mDwfs_rust\u001b[0m\u001b[0;34m.\u001b[0m\u001b[0mT\u001b[0m\u001b[0;34m)\u001b[0m\u001b[0;34m\u001b[0m\u001b[0;34m\u001b[0m\u001b[0m\n\u001b[1;32m      4\u001b[0m \u001b[0mR\u001b[0m \u001b[0;34m=\u001b[0m \u001b[0mnp\u001b[0m\u001b[0;34m.\u001b[0m\u001b[0minsert\u001b[0m\u001b[0;34m(\u001b[0m\u001b[0mR\u001b[0m\u001b[0;34m,\u001b[0m\u001b[0;34m[\u001b[0m\u001b[0;36m36\u001b[0m\u001b[0;34m+\u001b[0m\u001b[0;36m5\u001b[0m\u001b[0;34m,\u001b[0m\u001b[0;36m82\u001b[0m\u001b[0;34m]\u001b[0m\u001b[0;34m,\u001b[0m\u001b[0;36m0\u001b[0m\u001b[0;34m,\u001b[0m\u001b[0maxis\u001b[0m\u001b[0;34m=\u001b[0m\u001b[0;36m0\u001b[0m\u001b[0;34m)\u001b[0m\u001b[0;34m\u001b[0m\u001b[0;34m\u001b[0m\u001b[0m\n\u001b[1;32m      5\u001b[0m \u001b[0;34m\u001b[0m\u001b[0m\n",
      "\u001b[0;31mNameError\u001b[0m: name 'W1' is not defined"
     ]
    }
   ],
   "source": [
    "W2 = get_aco_recW2(Dwfs_rust,None,DpwBM=DpwBM,rho_p=1e-12,rho_s=0.0)\n",
    "left_sym_inv = la.pinv(Dwfs_rust.T.dot(W1).dot(Dwfs_rust) + W2)\n",
    "R = left_sym_inv.dot(Dwfs_rust.T)\n",
    "R = np.insert(R,[36+5,82],0,axis=0)\n",
    "\n",
    "# Linear reconstruction bias\n",
    "Dwfs_withS7Rz = np.insert(Dwfs_rust,[36+5,82],0,axis=1)\n",
    "RD = R.dot(Dwfs_withS7Rz)\n",
    "plot_AcO_RdotD(RD)"
   ]
  },
  {
   "cell_type": "code",
   "execution_count": null,
   "metadata": {},
   "outputs": [],
   "source": []
  },
  {
   "cell_type": "code",
   "execution_count": null,
   "metadata": {},
   "outputs": [],
   "source": []
  },
  {
   "cell_type": "code",
   "execution_count": null,
   "metadata": {},
   "outputs": [],
   "source": []
  },
  {
   "cell_type": "code",
   "execution_count": null,
   "metadata": {},
   "outputs": [],
   "source": []
  },
  {
   "cell_type": "code",
   "execution_count": null,
   "metadata": {},
   "outputs": [],
   "source": []
  },
  {
   "cell_type": "code",
   "execution_count": null,
   "metadata": {},
   "outputs": [],
   "source": []
  },
  {
   "cell_type": "code",
   "execution_count": null,
   "metadata": {},
   "outputs": [],
   "source": []
  },
  {
   "cell_type": "markdown",
   "metadata": {},
   "source": [
    "Function to incorporate the mean slope removal feature"
   ]
  },
  {
   "cell_type": "code",
   "execution_count": 12,
   "metadata": {},
   "outputs": [],
   "source": [
    "def get_meanslrm_W1(D,wfsMask,**kwargs):\n",
    "    \n",
    "    # W1 can be used to remove mean slopes\n",
    "    W1 = np.eye(D.shape[0])\n",
    "    if 'Cs' in kwargs.keys():\n",
    "        W1 = kwargs['Cs']\n",
    "\n",
    "    # - - - Probe mean slope removal matrix Rs (but retains the overall contribution)\n",
    "    O = np.kron(np.eye(6),np.ones((48*48,1)))\n",
    "    V_pr = np.zeros((D.shape[0],6))\n",
    "    for iv in range(6):\n",
    "        V_pr[:,iv] = np.hstack([*[O[MaskSeg.ravel(),iv] for MaskSeg in wfsMask]])\n",
    "    Lambda_pr = np.diag(1/np.sum(V_pr,axis=0))\n",
    "\n",
    "    R_g = np.kron(np.eye(2),np.array([[1,1,1]]).T)\n",
    "    Lambda_g = np.diag(1/np.sum(V_pr@R_g,axis=0))\n",
    "    Rs = np.eye(D.shape[0]) - (V_pr @ (Lambda_pr - R_g@Lambda_g@R_g.T) @ V_pr.T)\n",
    "    W1 = Rs.T.dot(W1).dot(Rs)\n",
    "    \n",
    "    return W1"
   ]
  }
 ],
 "metadata": {
  "interpreter": {
   "hash": "ef3a7fef608d46b7606a03afb5aea93f0622ffd9cf5a5d63c632a970bda02f4c"
  },
  "kernelspec": {
   "display_name": "Python 3",
   "language": "python",
   "name": "python3"
  },
  "language_info": {
   "codemirror_mode": {
    "name": "ipython",
    "version": 3
   },
   "file_extension": ".py",
   "mimetype": "text/x-python",
   "name": "python",
   "nbconvert_exporter": "python",
   "pygments_lexer": "ipython3",
   "version": "3.7.3"
  }
 },
 "nbformat": 4,
 "nbformat_minor": 4
}
