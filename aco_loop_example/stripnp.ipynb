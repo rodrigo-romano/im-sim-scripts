{
 "cells": [
  {
   "cell_type": "code",
   "execution_count": 1,
   "metadata": {},
   "outputs": [],
   "source": [
    "import numpy as np\n",
    "import pickle"
   ]
  },
  {
   "cell_type": "code",
   "execution_count": 2,
   "metadata": {},
   "outputs": [
    {
     "name": "stdout",
     "output_type": "stream",
     "text": [
      "0: <SHAcO_qp>\n",
      "1: <D>\n",
      " size: [(6482, 271)], type: float64\n",
      "1: <W2>\n",
      " size: [(271, 271)], type: float64\n",
      "1: <W3>\n",
      " size: [(271, 271)], type: float64\n",
      "1: <K>\n",
      " type: <class 'float'>\n",
      "1: <umin>\n",
      " size: [(1228,)], type: float64\n",
      "1: <umax>\n",
      " size: [(1228,)], type: float64\n",
      "1: <rm_mean_slopes>\n",
      " type: <class 'bool'>\n",
      "1: <_Tu>\n",
      " size: [(1228, 273)], type: float64\n",
      "1: <rho_3>\n",
      " type: <class 'float'>\n",
      "1: <end2end_ordering>\n",
      " type: <class 'bool'>\n"
     ]
    }
   ],
   "source": [
    "#data = np.load(\"SHAcO_qp_rhoP1e-3_kIp5.pkl\",allow_pickle=True)\n",
    "data = np.load(\"rustCalib_AcO_rhoP1e-12_kIp5.pickle\",allow_pickle=True)\n",
    "\n",
    "def browse_dict(d,o):\n",
    "    for key in d:\n",
    "        print(f\"{o}: <{key}>\")\n",
    "        if isinstance(d[key],dict):\n",
    "            browse_dict(d[key],o+1)\n",
    "        elif isinstance(d[key],np.ndarray):\n",
    "            buf = d[key].copy()\n",
    "            print(f\" size: [{buf.shape}], type: {buf.dtype}\")\n",
    "            d[key] = buf.ravel().tolist()\n",
    "        elif isinstance(d[key],list):\n",
    "            n = len(d[key])\n",
    "            print(f\" size: [{n}].type: {type(d[key][0])}\")\n",
    "            for k in range(n):\n",
    "                if isinstance(d[key][k],np.ndarray):\n",
    "                    buf = d[key][k].copy()\n",
    "                    print(f\" #{k}. size: [{buf.shape}], type: {buf.dtype}\")\n",
    "                    d[key][k] = buf.ravel().tolist()\n",
    "        else:\n",
    "            print(f\" type: {type(d[key])}\")\n",
    "\n",
    "\n",
    "browse_dict(data,0)"
   ]
  },
  {
   "cell_type": "code",
   "execution_count": 3,
   "metadata": {},
   "outputs": [],
   "source": [
    "with open(\"rustCalib_AcO_rhoP1e-12_kIp5.rs.pkl\",\"wb\") as f:\n",
    "    pickle.dump(data,f)"
   ]
  },
  {
   "cell_type": "code",
   "execution_count": 4,
   "metadata": {},
   "outputs": [
    {
     "data": {
      "text/plain": [
       "(2, 3)"
      ]
     },
     "execution_count": 4,
     "metadata": {},
     "output_type": "execute_result"
    }
   ],
   "source": [
    "a = np.array([[1,2,3],[4,5,6]])\n",
    "a.shape"
   ]
  },
  {
   "cell_type": "code",
   "execution_count": 16,
   "metadata": {},
   "outputs": [
    {
     "data": {
      "text/plain": [
       "[-0.0005301501369103789, -0.05430646985769272, -0.0025249419268220663]"
      ]
     },
     "execution_count": 16,
     "metadata": {},
     "output_type": "execute_result"
    }
   ],
   "source": [
    "data['SHAcO_qp']['D'][:3]"
   ]
  },
  {
   "cell_type": "code",
   "execution_count": null,
   "metadata": {},
   "outputs": [],
   "source": []
  }
 ],
 "metadata": {
  "kernelspec": {
   "display_name": "Python 3",
   "language": "python",
   "name": "python3"
  },
  "language_info": {
   "codemirror_mode": {
    "name": "ipython",
    "version": 3
   },
   "file_extension": ".py",
   "mimetype": "text/x-python",
   "name": "python",
   "nbconvert_exporter": "python",
   "pygments_lexer": "ipython3",
   "version": "3.7.3"
  }
 },
 "nbformat": 4,
 "nbformat_minor": 4
}
