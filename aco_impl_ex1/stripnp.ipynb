{
 "cells": [
  {
   "cell_type": "code",
   "execution_count": 1,
   "metadata": {},
   "outputs": [],
   "source": [
    "import numpy as np\n",
    "import pickle"
   ]
  },
  {
   "cell_type": "code",
   "execution_count": 2,
   "metadata": {},
   "outputs": [
    {
     "output_type": "stream",
     "name": "stdout",
     "text": [
      "0: <SHAcO_qp>\n1: <D>\n size: [(7360, 271)], type: float64\n1: <W2>\n size: [(271, 271)], type: float64\n1: <W3>\n size: [(271, 271)], type: float64\n1: <K>\n type: <class 'float'>\n1: <wfsMask>\n size: [7].type: <class 'numpy.ndarray'>\n #0. size: [(13824, 1)], type: bool\n #1. size: [(13824, 1)], type: bool\n #2. size: [(13824, 1)], type: bool\n #3. size: [(13824, 1)], type: bool\n #4. size: [(13824, 1)], type: bool\n #5. size: [(13824, 1)], type: bool\n #6. size: [(13824, 1)], type: bool\n1: <umin>\n size: [(1228,)], type: float64\n1: <umax>\n size: [(1228,)], type: float64\n1: <rm_mean_slopes>\n type: <class 'bool'>\n1: <_Tu>\n size: [(1228, 273)], type: float64\n1: <rho_3>\n type: <class 'float'>\n1: <end2end_ordering>\n type: <class 'bool'>\n"
     ]
    }
   ],
   "source": [
    "data = np.load(\"SHAcO_qp_rhoP1e-3_kIp5.pkl\",allow_pickle=True)\n",
    "\n",
    "def browse_dict(d,o):\n",
    "    for key in d:\n",
    "        print(f\"{o}: <{key}>\")\n",
    "        if isinstance(d[key],dict):\n",
    "            browse_dict(d[key],o+1)\n",
    "        elif isinstance(d[key],np.ndarray):\n",
    "            buf = d[key].copy()\n",
    "            print(f\" size: [{buf.shape}], type: {buf.dtype}\")\n",
    "            d[key] = buf.ravel().tolist()\n",
    "        elif isinstance(d[key],list):\n",
    "            n = len(d[key])\n",
    "            print(f\" size: [{n}].type: {type(d[key][0])}\")\n",
    "            for k in range(n):\n",
    "                if isinstance(d[key][k],np.ndarray):\n",
    "                    buf = d[key][k].copy()\n",
    "                    print(f\" #{k}. size: [{buf.shape}], type: {buf.dtype}\")\n",
    "                    d[key][k] = buf.ravel().tolist()\n",
    "        else:\n",
    "            print(f\" type: {type(d[key])}\")\n",
    "\n",
    "\n",
    "browse_dict(data,0)"
   ]
  },
  {
   "cell_type": "code",
   "execution_count": 4,
   "metadata": {},
   "outputs": [],
   "source": [
    "with open(\"SHAcO_qp_rhoP1e-3_kIp5.rs.pkl\",\"wb\") as f:\n",
    "    pickle.dump(data,f)"
   ]
  },
  {
   "cell_type": "code",
   "execution_count": 17,
   "metadata": {},
   "outputs": [
    {
     "output_type": "execute_result",
     "data": {
      "text/plain": [
       "(2, 3)"
      ]
     },
     "metadata": {},
     "execution_count": 17
    }
   ],
   "source": [
    "a = np.array([[1,2,3],[4,5,6]])\n",
    "a.shape"
   ]
  },
  {
   "cell_type": "code",
   "execution_count": 16,
   "metadata": {},
   "outputs": [
    {
     "output_type": "execute_result",
     "data": {
      "text/plain": [
       "[-0.0005301501369103789, -0.05430646985769272, -0.0025249419268220663]"
      ]
     },
     "metadata": {},
     "execution_count": 16
    }
   ],
   "source": [
    "data['SHAcO_qp']['D'][:3]"
   ]
  },
  {
   "cell_type": "code",
   "execution_count": null,
   "metadata": {},
   "outputs": [],
   "source": []
  }
 ],
 "metadata": {
  "kernelspec": {
   "display_name": "Python 3",
   "language": "python",
   "name": "python3"
  },
  "language_info": {
   "codemirror_mode": {
    "name": "ipython",
    "version": 3
   },
   "file_extension": ".py",
   "mimetype": "text/x-python",
   "name": "python",
   "nbconvert_exporter": "python",
   "pygments_lexer": "ipython3",
   "version": "3.7.3"
  }
 },
 "nbformat": 4,
 "nbformat_minor": 4
}